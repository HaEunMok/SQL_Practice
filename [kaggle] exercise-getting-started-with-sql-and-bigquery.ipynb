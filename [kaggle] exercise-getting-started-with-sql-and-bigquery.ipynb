{
 "cells": [
  {
   "cell_type": "markdown",
   "id": "96e542f9",
   "metadata": {
    "papermill": {
     "duration": 0.005869,
     "end_time": "2024-02-01T07:24:08.146736",
     "exception": false,
     "start_time": "2024-02-01T07:24:08.140867",
     "status": "completed"
    },
    "tags": []
   },
   "source": [
    "**This notebook is an exercise in the [SQL](https://www.kaggle.com/learn/intro-to-sql) course.  You can reference the tutorial at [this link](https://www.kaggle.com/dansbecker/getting-started-with-sql-and-bigquery).**\n",
    "\n",
    "---\n"
   ]
  },
  {
   "cell_type": "markdown",
   "id": "d77110cd",
   "metadata": {
    "papermill": {
     "duration": 0.004969,
     "end_time": "2024-02-01T07:24:08.157145",
     "exception": false,
     "start_time": "2024-02-01T07:24:08.152176",
     "status": "completed"
    },
    "tags": []
   },
   "source": [
    "# Introduction\n",
    "\n",
    "The first test of your new data exploration skills uses data describing crime in the city of Chicago.\n",
    "\n",
    "Before you get started, run the following cell. It sets up the automated feedback system to review your answers."
   ]
  },
  {
   "cell_type": "code",
   "execution_count": 1,
   "id": "d127a976",
   "metadata": {
    "execution": {
     "iopub.execute_input": "2024-02-01T07:24:08.169819Z",
     "iopub.status.busy": "2024-02-01T07:24:08.169397Z",
     "iopub.status.idle": "2024-02-01T07:24:14.180092Z",
     "shell.execute_reply": "2024-02-01T07:24:14.178882Z"
    },
    "papermill": {
     "duration": 6.020072,
     "end_time": "2024-02-01T07:24:14.182580",
     "exception": false,
     "start_time": "2024-02-01T07:24:08.162508",
     "status": "completed"
    },
    "tags": []
   },
   "outputs": [
    {
     "name": "stdout",
     "output_type": "stream",
     "text": [
      "Using Kaggle's public dataset BigQuery integration.\n",
      "Setup Complete\n"
     ]
    }
   ],
   "source": [
    "# Set up feedack system\n",
    "from learntools.core import binder\n",
    "binder.bind(globals())\n",
    "from learntools.sql.ex1 import *\n",
    "print(\"Setup Complete\")"
   ]
  },
  {
   "cell_type": "markdown",
   "id": "d5080cec",
   "metadata": {
    "papermill": {
     "duration": 0.005236,
     "end_time": "2024-02-01T07:24:14.193468",
     "exception": false,
     "start_time": "2024-02-01T07:24:14.188232",
     "status": "completed"
    },
    "tags": []
   },
   "source": [
    "Use the next code cell to fetch the dataset."
   ]
  },
  {
   "cell_type": "code",
   "execution_count": 2,
   "id": "170e0ee6",
   "metadata": {
    "execution": {
     "iopub.execute_input": "2024-02-01T07:24:14.206362Z",
     "iopub.status.busy": "2024-02-01T07:24:14.205780Z",
     "iopub.status.idle": "2024-02-01T07:24:14.438411Z",
     "shell.execute_reply": "2024-02-01T07:24:14.437326Z"
    },
    "papermill": {
     "duration": 0.242011,
     "end_time": "2024-02-01T07:24:14.440925",
     "exception": false,
     "start_time": "2024-02-01T07:24:14.198914",
     "status": "completed"
    },
    "tags": []
   },
   "outputs": [
    {
     "name": "stdout",
     "output_type": "stream",
     "text": [
      "Using Kaggle's public dataset BigQuery integration.\n"
     ]
    }
   ],
   "source": [
    "from google.cloud import bigquery\n",
    "\n",
    "# Create a \"Client\" object\n",
    "client = bigquery.Client()\n",
    "\n",
    "# Construct a reference to the \"chicago_crime\" dataset\n",
    "dataset_ref = client.dataset(\"chicago_crime\", project=\"bigquery-public-data\")\n",
    "\n",
    "# API request - fetch the dataset\n",
    "dataset = client.get_dataset(dataset_ref)"
   ]
  },
  {
   "cell_type": "markdown",
   "id": "cc4a5eff",
   "metadata": {
    "papermill": {
     "duration": 0.005198,
     "end_time": "2024-02-01T07:24:14.451776",
     "exception": false,
     "start_time": "2024-02-01T07:24:14.446578",
     "status": "completed"
    },
    "tags": []
   },
   "source": [
    "# Exercises\n",
    "\n",
    "### 1) Count tables in the dataset\n",
    "\n",
    "How many tables are in the Chicago Crime dataset?"
   ]
  },
  {
   "cell_type": "code",
   "execution_count": 3,
   "id": "da81c616",
   "metadata": {
    "execution": {
     "iopub.execute_input": "2024-02-01T07:24:14.464631Z",
     "iopub.status.busy": "2024-02-01T07:24:14.464237Z",
     "iopub.status.idle": "2024-02-01T07:24:14.468858Z",
     "shell.execute_reply": "2024-02-01T07:24:14.467683Z"
    },
    "papermill": {
     "duration": 0.013651,
     "end_time": "2024-02-01T07:24:14.470971",
     "exception": false,
     "start_time": "2024-02-01T07:24:14.457320",
     "status": "completed"
    },
    "tags": []
   },
   "outputs": [],
   "source": [
    "# Write the code you need here to figure out the answer"
   ]
  },
  {
   "cell_type": "code",
   "execution_count": 4,
   "id": "adbf85c0",
   "metadata": {
    "execution": {
     "iopub.execute_input": "2024-02-01T07:24:14.484133Z",
     "iopub.status.busy": "2024-02-01T07:24:14.483710Z",
     "iopub.status.idle": "2024-02-01T07:24:14.655780Z",
     "shell.execute_reply": "2024-02-01T07:24:14.654583Z"
    },
    "papermill": {
     "duration": 0.181382,
     "end_time": "2024-02-01T07:24:14.657890",
     "exception": false,
     "start_time": "2024-02-01T07:24:14.476508",
     "status": "completed"
    },
    "tags": []
   },
   "outputs": [
    {
     "name": "stdout",
     "output_type": "stream",
     "text": [
      "1\n"
     ]
    }
   ],
   "source": [
    "# List all the tables in the \"chicago_crime\" dataset\n",
    "tables = list(client.list_tables(dataset))\n",
    "\n",
    "# Print number of tables in the dataset\n",
    "print(len(tables))\n",
    "\n",
    "num_tables = 1"
   ]
  },
  {
   "cell_type": "code",
   "execution_count": 5,
   "id": "4be31cb4",
   "metadata": {
    "execution": {
     "iopub.execute_input": "2024-02-01T07:24:14.672040Z",
     "iopub.status.busy": "2024-02-01T07:24:14.671618Z",
     "iopub.status.idle": "2024-02-01T07:24:14.680712Z",
     "shell.execute_reply": "2024-02-01T07:24:14.679862Z"
    },
    "papermill": {
     "duration": 0.01912,
     "end_time": "2024-02-01T07:24:14.682813",
     "exception": false,
     "start_time": "2024-02-01T07:24:14.663693",
     "status": "completed"
    },
    "tags": []
   },
   "outputs": [
    {
     "data": {
      "application/javascript": [
       "parent.postMessage({\"jupyterEvent\": \"custom.exercise_interaction\", \"data\": {\"outcomeType\": 1, \"valueTowardsCompletion\": 0.3333333333333333, \"interactionType\": 1, \"questionType\": 1, \"questionId\": \"1_CountTables\", \"learnToolsVersion\": \"0.3.4\", \"failureMessage\": \"\", \"exceptionClass\": \"\", \"trace\": \"\"}}, \"*\")"
      ],
      "text/plain": [
       "<IPython.core.display.Javascript object>"
      ]
     },
     "metadata": {},
     "output_type": "display_data"
    },
    {
     "data": {
      "text/markdown": [
       "<span style=\"color:#33cc33\">Correct</span>"
      ],
      "text/plain": [
       "Correct"
      ]
     },
     "metadata": {},
     "output_type": "display_data"
    }
   ],
   "source": [
    "# Store the answer as num_tables and then run this cell\n",
    "\n",
    "# Check your answer\n",
    "q_1.check()"
   ]
  },
  {
   "cell_type": "markdown",
   "id": "a7d88ee9",
   "metadata": {
    "papermill": {
     "duration": 0.005471,
     "end_time": "2024-02-01T07:24:14.694322",
     "exception": false,
     "start_time": "2024-02-01T07:24:14.688851",
     "status": "completed"
    },
    "tags": []
   },
   "source": [
    "For a hint or the solution, uncomment the appropriate line below."
   ]
  },
  {
   "cell_type": "code",
   "execution_count": 6,
   "id": "eaf114ec",
   "metadata": {
    "execution": {
     "iopub.execute_input": "2024-02-01T07:24:14.708370Z",
     "iopub.status.busy": "2024-02-01T07:24:14.708014Z",
     "iopub.status.idle": "2024-02-01T07:24:14.716320Z",
     "shell.execute_reply": "2024-02-01T07:24:14.715193Z"
    },
    "papermill": {
     "duration": 0.018549,
     "end_time": "2024-02-01T07:24:14.718578",
     "exception": false,
     "start_time": "2024-02-01T07:24:14.700029",
     "status": "completed"
    },
    "tags": []
   },
   "outputs": [
    {
     "data": {
      "application/javascript": [
       "parent.postMessage({\"jupyterEvent\": \"custom.exercise_interaction\", \"data\": {\"interactionType\": 3, \"questionType\": 1, \"questionId\": \"1_CountTables\", \"learnToolsVersion\": \"0.3.4\", \"valueTowardsCompletion\": 0.0, \"failureMessage\": \"\", \"exceptionClass\": \"\", \"trace\": \"\", \"outcomeType\": 4}}, \"*\")"
      ],
      "text/plain": [
       "<IPython.core.display.Javascript object>"
      ]
     },
     "metadata": {},
     "output_type": "display_data"
    },
    {
     "data": {
      "text/markdown": [
       "<span style=\"color:#33cc99\">Solution:</span> \n",
       "```python\n",
       "\n",
       "# List all the tables in the \"chicago_crime\" dataset\n",
       "tables = list(client.list_tables(dataset))\n",
       "\n",
       "# Print number of tables in the dataset\n",
       "print(len(tables))\n",
       "\n",
       "num_tables = 1\n",
       "\n",
       "```"
      ],
      "text/plain": [
       "Solution: \n",
       "```python\n",
       "\n",
       "# List all the tables in the \"chicago_crime\" dataset\n",
       "tables = list(client.list_tables(dataset))\n",
       "\n",
       "# Print number of tables in the dataset\n",
       "print(len(tables))\n",
       "\n",
       "num_tables = 1\n",
       "\n",
       "```"
      ]
     },
     "metadata": {},
     "output_type": "display_data"
    }
   ],
   "source": [
    "#q_1.hint()\n",
    "q_1.solution()"
   ]
  },
  {
   "cell_type": "markdown",
   "id": "d1f3bc9a",
   "metadata": {
    "papermill": {
     "duration": 0.005855,
     "end_time": "2024-02-01T07:24:14.730698",
     "exception": false,
     "start_time": "2024-02-01T07:24:14.724843",
     "status": "completed"
    },
    "tags": []
   },
   "source": [
    "### 2) Explore the table schema\n",
    "\n",
    "How many columns in the `crime` table have `TIMESTAMP` data?"
   ]
  },
  {
   "cell_type": "code",
   "execution_count": 7,
   "id": "8a58931d",
   "metadata": {
    "execution": {
     "iopub.execute_input": "2024-02-01T07:24:14.745199Z",
     "iopub.status.busy": "2024-02-01T07:24:14.744761Z",
     "iopub.status.idle": "2024-02-01T07:24:14.748984Z",
     "shell.execute_reply": "2024-02-01T07:24:14.748115Z"
    },
    "papermill": {
     "duration": 0.014133,
     "end_time": "2024-02-01T07:24:14.750895",
     "exception": false,
     "start_time": "2024-02-01T07:24:14.736762",
     "status": "completed"
    },
    "tags": []
   },
   "outputs": [],
   "source": [
    "# Write the code to figure out the answer"
   ]
  },
  {
   "cell_type": "code",
   "execution_count": 8,
   "id": "9081e99b",
   "metadata": {
    "execution": {
     "iopub.execute_input": "2024-02-01T07:24:14.764794Z",
     "iopub.status.busy": "2024-02-01T07:24:14.764380Z",
     "iopub.status.idle": "2024-02-01T07:24:15.009535Z",
     "shell.execute_reply": "2024-02-01T07:24:15.008423Z"
    },
    "papermill": {
     "duration": 0.254839,
     "end_time": "2024-02-01T07:24:15.011914",
     "exception": false,
     "start_time": "2024-02-01T07:24:14.757075",
     "status": "completed"
    },
    "tags": []
   },
   "outputs": [
    {
     "name": "stdout",
     "output_type": "stream",
     "text": [
      "[SchemaField('unique_key', 'INTEGER', 'REQUIRED', None, (), None), SchemaField('case_number', 'STRING', 'NULLABLE', None, (), None), SchemaField('date', 'TIMESTAMP', 'NULLABLE', None, (), None), SchemaField('block', 'STRING', 'NULLABLE', None, (), None), SchemaField('iucr', 'STRING', 'NULLABLE', None, (), None), SchemaField('primary_type', 'STRING', 'NULLABLE', None, (), None), SchemaField('description', 'STRING', 'NULLABLE', None, (), None), SchemaField('location_description', 'STRING', 'NULLABLE', None, (), None), SchemaField('arrest', 'BOOLEAN', 'NULLABLE', None, (), None), SchemaField('domestic', 'BOOLEAN', 'NULLABLE', None, (), None), SchemaField('beat', 'INTEGER', 'NULLABLE', None, (), None), SchemaField('district', 'INTEGER', 'NULLABLE', None, (), None), SchemaField('ward', 'INTEGER', 'NULLABLE', None, (), None), SchemaField('community_area', 'INTEGER', 'NULLABLE', None, (), None), SchemaField('fbi_code', 'STRING', 'NULLABLE', None, (), None), SchemaField('x_coordinate', 'FLOAT', 'NULLABLE', None, (), None), SchemaField('y_coordinate', 'FLOAT', 'NULLABLE', None, (), None), SchemaField('year', 'INTEGER', 'NULLABLE', None, (), None), SchemaField('updated_on', 'TIMESTAMP', 'NULLABLE', None, (), None), SchemaField('latitude', 'FLOAT', 'NULLABLE', None, (), None), SchemaField('longitude', 'FLOAT', 'NULLABLE', None, (), None), SchemaField('location', 'STRING', 'NULLABLE', None, (), None)]\n"
     ]
    },
    {
     "data": {
      "application/javascript": [
       "parent.postMessage({\"jupyterEvent\": \"custom.exercise_interaction\", \"data\": {\"outcomeType\": 1, \"valueTowardsCompletion\": 0.3333333333333333, \"interactionType\": 1, \"questionType\": 1, \"questionId\": \"2_CountTimestampFields\", \"learnToolsVersion\": \"0.3.4\", \"failureMessage\": \"\", \"exceptionClass\": \"\", \"trace\": \"\"}}, \"*\")"
      ],
      "text/plain": [
       "<IPython.core.display.Javascript object>"
      ]
     },
     "metadata": {},
     "output_type": "display_data"
    },
    {
     "data": {
      "text/markdown": [
       "<span style=\"color:#33cc33\">Correct</span>"
      ],
      "text/plain": [
       "Correct"
      ]
     },
     "metadata": {},
     "output_type": "display_data"
    }
   ],
   "source": [
    "# Construct a reference to the \"crime\" table\n",
    "table_ref = dataset_ref.table(\"crime\")\n",
    "\n",
    "# API request - fetch the table\n",
    "table = client.get_table(table_ref)\n",
    "\n",
    "# Print information on all the columns in the \"crime\" table in the \"chicago_crime\" dataset\n",
    "print(table.schema)\n",
    "\n",
    "num_timestamp_fields = 2\n",
    "# Check your answer\n",
    "q_2.check()"
   ]
  },
  {
   "cell_type": "markdown",
   "id": "75ae3460",
   "metadata": {
    "papermill": {
     "duration": 0.006485,
     "end_time": "2024-02-01T07:24:15.024824",
     "exception": false,
     "start_time": "2024-02-01T07:24:15.018339",
     "status": "completed"
    },
    "tags": []
   },
   "source": [
    "For a hint or the solution, uncomment the appropriate line below."
   ]
  },
  {
   "cell_type": "code",
   "execution_count": 9,
   "id": "4e5c9848",
   "metadata": {
    "execution": {
     "iopub.execute_input": "2024-02-01T07:24:15.039381Z",
     "iopub.status.busy": "2024-02-01T07:24:15.039003Z",
     "iopub.status.idle": "2024-02-01T07:24:15.047354Z",
     "shell.execute_reply": "2024-02-01T07:24:15.046364Z"
    },
    "papermill": {
     "duration": 0.017952,
     "end_time": "2024-02-01T07:24:15.049264",
     "exception": false,
     "start_time": "2024-02-01T07:24:15.031312",
     "status": "completed"
    },
    "tags": []
   },
   "outputs": [
    {
     "data": {
      "application/javascript": [
       "parent.postMessage({\"jupyterEvent\": \"custom.exercise_interaction\", \"data\": {\"interactionType\": 3, \"questionType\": 1, \"questionId\": \"2_CountTimestampFields\", \"learnToolsVersion\": \"0.3.4\", \"valueTowardsCompletion\": 0.0, \"failureMessage\": \"\", \"exceptionClass\": \"\", \"trace\": \"\", \"outcomeType\": 4}}, \"*\")"
      ],
      "text/plain": [
       "<IPython.core.display.Javascript object>"
      ]
     },
     "metadata": {},
     "output_type": "display_data"
    },
    {
     "data": {
      "text/markdown": [
       "<span style=\"color:#33cc99\">Solution:</span> \n",
       "```python\n",
       "\n",
       "# Construct a reference to the \"crime\" table\n",
       "table_ref = dataset_ref.table(\"crime\")\n",
       "\n",
       "# API request - fetch the table\n",
       "table = client.get_table(table_ref)\n",
       "\n",
       "# Print information on all the columns in the \"crime\" table in the \"chicago_crime\" dataset\n",
       "print(table.schema)\n",
       "\n",
       "num_timestamp_fields = 2\n",
       "\n",
       "```"
      ],
      "text/plain": [
       "Solution: \n",
       "```python\n",
       "\n",
       "# Construct a reference to the \"crime\" table\n",
       "table_ref = dataset_ref.table(\"crime\")\n",
       "\n",
       "# API request - fetch the table\n",
       "table = client.get_table(table_ref)\n",
       "\n",
       "# Print information on all the columns in the \"crime\" table in the \"chicago_crime\" dataset\n",
       "print(table.schema)\n",
       "\n",
       "num_timestamp_fields = 2\n",
       "\n",
       "```"
      ]
     },
     "metadata": {},
     "output_type": "display_data"
    }
   ],
   "source": [
    "#q_2.hint()\n",
    "q_2.solution()"
   ]
  },
  {
   "cell_type": "markdown",
   "id": "ad002134",
   "metadata": {
    "papermill": {
     "duration": 0.00647,
     "end_time": "2024-02-01T07:24:15.062360",
     "exception": false,
     "start_time": "2024-02-01T07:24:15.055890",
     "status": "completed"
    },
    "tags": []
   },
   "source": [
    "### 3) Create a crime map\n",
    "\n",
    "If you wanted to create a map with a dot at the location of each crime, what are the names of the two fields you likely need to pull out of the `crime` table to plot the crimes on a map?"
   ]
  },
  {
   "cell_type": "code",
   "execution_count": 10,
   "id": "27d25ebc",
   "metadata": {
    "execution": {
     "iopub.execute_input": "2024-02-01T07:24:15.077816Z",
     "iopub.status.busy": "2024-02-01T07:24:15.077405Z",
     "iopub.status.idle": "2024-02-01T07:24:15.081847Z",
     "shell.execute_reply": "2024-02-01T07:24:15.080711Z"
    },
    "papermill": {
     "duration": 0.014873,
     "end_time": "2024-02-01T07:24:15.084156",
     "exception": false,
     "start_time": "2024-02-01T07:24:15.069283",
     "status": "completed"
    },
    "tags": []
   },
   "outputs": [],
   "source": [
    "# Write the code here to explore the data so you can find the answer"
   ]
  },
  {
   "cell_type": "code",
   "execution_count": 11,
   "id": "185c7853",
   "metadata": {
    "execution": {
     "iopub.execute_input": "2024-02-01T07:24:15.099890Z",
     "iopub.status.busy": "2024-02-01T07:24:15.099483Z",
     "iopub.status.idle": "2024-02-01T07:24:15.107548Z",
     "shell.execute_reply": "2024-02-01T07:24:15.106815Z"
    },
    "papermill": {
     "duration": 0.018293,
     "end_time": "2024-02-01T07:24:15.109649",
     "exception": false,
     "start_time": "2024-02-01T07:24:15.091356",
     "status": "completed"
    },
    "tags": []
   },
   "outputs": [
    {
     "data": {
      "application/javascript": [
       "parent.postMessage({\"jupyterEvent\": \"custom.exercise_interaction\", \"data\": {\"outcomeType\": 1, \"valueTowardsCompletion\": 0.3333333333333333, \"interactionType\": 1, \"questionType\": 2, \"questionId\": \"3_IdentifyFieldsForPlotting\", \"learnToolsVersion\": \"0.3.4\", \"failureMessage\": \"\", \"exceptionClass\": \"\", \"trace\": \"\"}}, \"*\")"
      ],
      "text/plain": [
       "<IPython.core.display.Javascript object>"
      ]
     },
     "metadata": {},
     "output_type": "display_data"
    },
    {
     "data": {
      "text/markdown": [
       "<span style=\"color:#33cc33\">Correct</span>"
      ],
      "text/plain": [
       "Correct"
      ]
     },
     "metadata": {},
     "output_type": "display_data"
    }
   ],
   "source": [
    "\n",
    "fields_for_plotting = ['latitude', 'longitude'] # Put your answers here\n",
    "\n",
    "# Check your answer\n",
    "q_3.check()"
   ]
  },
  {
   "cell_type": "markdown",
   "id": "aaaa8b9e",
   "metadata": {
    "papermill": {
     "duration": 0.006709,
     "end_time": "2024-02-01T07:24:15.123275",
     "exception": false,
     "start_time": "2024-02-01T07:24:15.116566",
     "status": "completed"
    },
    "tags": []
   },
   "source": [
    "For a hint or the solution, uncomment the appropriate line below."
   ]
  },
  {
   "cell_type": "code",
   "execution_count": 12,
   "id": "588dd758",
   "metadata": {
    "execution": {
     "iopub.execute_input": "2024-02-01T07:24:15.139037Z",
     "iopub.status.busy": "2024-02-01T07:24:15.138687Z",
     "iopub.status.idle": "2024-02-01T07:24:15.145087Z",
     "shell.execute_reply": "2024-02-01T07:24:15.144361Z"
    },
    "papermill": {
     "duration": 0.017326,
     "end_time": "2024-02-01T07:24:15.147519",
     "exception": false,
     "start_time": "2024-02-01T07:24:15.130193",
     "status": "completed"
    },
    "tags": []
   },
   "outputs": [
    {
     "data": {
      "application/javascript": [
       "parent.postMessage({\"jupyterEvent\": \"custom.exercise_interaction\", \"data\": {\"interactionType\": 3, \"questionType\": 2, \"questionId\": \"3_IdentifyFieldsForPlotting\", \"learnToolsVersion\": \"0.3.4\", \"valueTowardsCompletion\": 0.0, \"failureMessage\": \"\", \"exceptionClass\": \"\", \"trace\": \"\", \"outcomeType\": 4}}, \"*\")"
      ],
      "text/plain": [
       "<IPython.core.display.Javascript object>"
      ]
     },
     "metadata": {},
     "output_type": "display_data"
    },
    {
     "data": {
      "text/markdown": [
       "<span style=\"color:#33cc99\">Solution:</span> \n",
       "```python\n",
       "fields_for_plotting = ['latitude', 'longitude']\n",
       "```"
      ],
      "text/plain": [
       "Solution: \n",
       "```python\n",
       "fields_for_plotting = ['latitude', 'longitude']\n",
       "```"
      ]
     },
     "metadata": {},
     "output_type": "display_data"
    }
   ],
   "source": [
    "#q_3.hint()\n",
    "q_3.solution()"
   ]
  },
  {
   "cell_type": "markdown",
   "id": "5da86ccd",
   "metadata": {
    "papermill": {
     "duration": 0.007063,
     "end_time": "2024-02-01T07:24:15.162003",
     "exception": false,
     "start_time": "2024-02-01T07:24:15.154940",
     "status": "completed"
    },
    "tags": []
   },
   "source": [
    "Thinking about the question above, there are a few columns that appear to have geographic data. Look at a few values (with the `list_rows()` command) to see if you can determine their relationship.  Two columns will still be hard to interpret. But it should be obvious how the `location` column relates to `latitude` and `longitude`."
   ]
  },
  {
   "cell_type": "code",
   "execution_count": 13,
   "id": "90e71f7c",
   "metadata": {
    "execution": {
     "iopub.execute_input": "2024-02-01T07:24:15.178766Z",
     "iopub.status.busy": "2024-02-01T07:24:15.178151Z",
     "iopub.status.idle": "2024-02-01T07:24:15.182257Z",
     "shell.execute_reply": "2024-02-01T07:24:15.181082Z"
    },
    "papermill": {
     "duration": 0.015104,
     "end_time": "2024-02-01T07:24:15.184419",
     "exception": false,
     "start_time": "2024-02-01T07:24:15.169315",
     "status": "completed"
    },
    "tags": []
   },
   "outputs": [],
   "source": [
    "# Scratch space for your code"
   ]
  },
  {
   "cell_type": "markdown",
   "id": "60736b25",
   "metadata": {
    "papermill": {
     "duration": 0.007003,
     "end_time": "2024-02-01T07:24:15.198879",
     "exception": false,
     "start_time": "2024-02-01T07:24:15.191876",
     "status": "completed"
    },
    "tags": []
   },
   "source": [
    "# Keep going\n",
    "\n",
    "You've looked at the schema, but you haven't yet done anything exciting with the data itself. Things get more interesting when you get to the data, so keep going to **[write your first SQL query](https://www.kaggle.com/dansbecker/select-from-where).**"
   ]
  },
  {
   "cell_type": "markdown",
   "id": "eeb45795",
   "metadata": {
    "papermill": {
     "duration": 0.007472,
     "end_time": "2024-02-01T07:24:15.213777",
     "exception": false,
     "start_time": "2024-02-01T07:24:15.206305",
     "status": "completed"
    },
    "tags": []
   },
   "source": [
    "---\n",
    "\n",
    "\n",
    "\n",
    "\n",
    "*Have questions or comments? Visit the [course discussion forum](https://www.kaggle.com/learn/intro-to-sql/discussion) to chat with other learners.*"
   ]
  }
 ],
 "metadata": {
  "kaggle": {
   "accelerator": "none",
   "dataSources": [
    {
     "datasetId": 22090,
     "sourceId": 28376,
     "sourceType": "datasetVersion"
    },
    {
     "datasetId": 6057,
     "sourceId": 285982,
     "sourceType": "datasetVersion"
    }
   ],
   "isGpuEnabled": false,
   "isInternetEnabled": false,
   "language": "python",
   "sourceType": "notebook"
  },
  "kernelspec": {
   "display_name": "Python 3",
   "language": "python",
   "name": "python3"
  },
  "language_info": {
   "codemirror_mode": {
    "name": "ipython",
    "version": 3
   },
   "file_extension": ".py",
   "mimetype": "text/x-python",
   "name": "python",
   "nbconvert_exporter": "python",
   "pygments_lexer": "ipython3",
   "version": "3.10.13"
  },
  "papermill": {
   "default_parameters": {},
   "duration": 13.104489,
   "end_time": "2024-02-01T07:24:18.348490",
   "environment_variables": {},
   "exception": null,
   "input_path": "__notebook__.ipynb",
   "output_path": "__notebook__.ipynb",
   "parameters": {},
   "start_time": "2024-02-01T07:24:05.244001",
   "version": "2.5.0"
  }
 },
 "nbformat": 4,
 "nbformat_minor": 5
}
